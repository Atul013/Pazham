{
 "cells": [
  {
   "cell_type": "code",
   "execution_count": null,
   "id": "eb248348",
   "metadata": {},
   "outputs": [],
   "source": [
    "# Banana Seed Count Prediction Model\n",
    "\n",
    "This notebook implements a machine learning model to predict the number of seeds in a banana based on various features. The model will be trained using a labeled dataset (to be added later)."
   ]
  },
  {
   "cell_type": "code",
   "execution_count": null,
   "id": "548585a2",
   "metadata": {},
   "outputs": [],
   "source": [
    "# Import required libraries\n",
    "import numpy as np\n",
    "import pandas as pd\n",
    "from sklearn.model_selection import train_test_split\n",
    "from sklearn.preprocessing import StandardScaler\n",
    "from sklearn.ensemble import RandomForestRegressor\n",
    "from sklearn.metrics import mean_squared_error, r2_score"
   ]
  },
  {
   "cell_type": "markdown",
   "id": "b6b3dcf8",
   "metadata": {},
   "source": [
    "# Data Preparation\n",
    "\n",
    "The model will use the following features to predict the number of seeds:\n",
    "1. Length (cm)\n",
    "2. Width (cm)\n",
    "3. Weight (g)\n",
    "4. Ripeness level (1-5)\n",
    "5. Color (encoded)\n",
    "6. Curvature (degrees)"
   ]
  },
  {
   "cell_type": "code",
   "execution_count": null,
   "id": "5c03fa5e",
   "metadata": {},
   "outputs": [],
   "source": [
    "# Create sample data structure (to be replaced with real data later)\n",
    "def create_sample_data(n_samples=100):\n",
    "    np.random.seed(42)\n",
    "    \n",
    "    # Generate synthetic features\n",
    "    length = np.random.normal(15, 2, n_samples)  # Average banana length 15cm\n",
    "    width = np.random.normal(3, 0.5, n_samples)  # Average banana width 3cm\n",
    "    weight = np.random.normal(120, 20, n_samples)  # Average banana weight 120g\n",
    "    ripeness = np.random.randint(1, 6, n_samples)  # Ripeness level 1-5\n",
    "    color = np.random.randint(1, 4, n_samples)  # Color encoded as 1=green, 2=yellow, 3=brown\n",
    "    curvature = np.random.normal(45, 10, n_samples)  # Average curvature 45 degrees\n",
    "    \n",
    "    # Create feature matrix\n",
    "    X = np.column_stack([length, width, weight, ripeness, color, curvature])\n",
    "    \n",
    "    # Generate target (number of seeds)\n",
    "    # This is a simplified model where larger, riper bananas tend to have more seeds\n",
    "    y = (0.5 * length + 0.3 * width + 0.2 * weight/100 + 0.1 * ripeness + \n",
    "         0.1 * color + 0.1 * curvature/45).astype(int)\n",
    "    y = np.clip(y, 0, 20)  # Limit number of seeds between 0 and 20\n",
    "    \n",
    "    # Create DataFrame\n",
    "    columns = ['length', 'width', 'weight', 'ripeness', 'color', 'curvature']\n",
    "    df = pd.DataFrame(X, columns=columns)\n",
    "    \n",
    "    return df, y\n",
    "\n",
    "# Create sample dataset\n",
    "X_data, y_data = create_sample_data()"
   ]
  },
  {
   "cell_type": "code",
   "execution_count": null,
   "id": "14104b31",
   "metadata": {},
   "outputs": [],
   "source": [
    "# Split the data into training and testing sets\n",
    "X_train, X_test, y_train, y_test = train_test_split(\n",
    "    X_data, y_data, test_size=0.2, random_state=42\n",
    ")\n",
    "\n",
    "# Scale the features\n",
    "scaler = StandardScaler()\n",
    "X_train_scaled = scaler.fit_transform(X_train)\n",
    "X_test_scaled = scaler.transform(X_test)\n",
    "\n",
    "# Create and train the model\n",
    "model = RandomForestRegressor(\n",
    "    n_estimators=100,\n",
    "    max_depth=10,\n",
    "    random_state=42\n",
    ")\n",
    "model.fit(X_train_scaled, y_train)"
   ]
  },
  {
   "cell_type": "code",
   "execution_count": null,
   "id": "f9976db3",
   "metadata": {},
   "outputs": [],
   "source": [
    "# Evaluate the model\n",
    "y_pred = model.predict(X_test_scaled)\n",
    "\n",
    "# Calculate metrics\n",
    "mse = mean_squared_error(y_test, y_pred)\n",
    "r2 = r2_score(y_test, y_pred)\n",
    "\n",
    "print(f\"Mean Squared Error: {mse:.2f}\")\n",
    "print(f\"R² Score: {r2:.2f}\")"
   ]
  },
  {
   "cell_type": "code",
   "execution_count": null,
   "id": "b4da2941",
   "metadata": {},
   "outputs": [],
   "source": [
    "# Function to predict seeds for new bananas\n",
    "def predict_seeds(length, width, weight, ripeness, color, curvature):\n",
    "    # Create a feature array for the new banana\n",
    "    features = np.array([[length, width, weight, ripeness, color, curvature]])\n",
    "    \n",
    "    # Scale the features\n",
    "    features_scaled = scaler.transform(features)\n",
    "    \n",
    "    # Make prediction\n",
    "    prediction = model.predict(features_scaled)[0]\n",
    "    \n",
    "    return int(prediction)\n",
    "\n",
    "# Example prediction\n",
    "example_banana = {\n",
    "    'length': 16,    # cm\n",
    "    'width': 3.2,    # cm\n",
    "    'weight': 130,   # g\n",
    "    'ripeness': 4,   # scale 1-5\n",
    "    'color': 2,      # yellow\n",
    "    'curvature': 40  # degrees\n",
    "}\n",
    "\n",
    "predicted_seeds = predict_seeds(\n",
    "    example_banana['length'],\n",
    "    example_banana['width'],\n",
    "    example_banana['weight'],\n",
    "    example_banana['ripeness'],\n",
    "    example_banana['color'],\n",
    "    example_banana['curvature']\n",
    ")\n",
    "\n",
    "print(f\"Predicted number of seeds: {predicted_seeds}\")"
   ]
  }
 ],
 "metadata": {
  "kernelspec": {
   "display_name": "Python 3",
   "language": "python",
   "name": "python3"
  },
  "language_info": {
   "name": "python",
   "version": "3.13.5"
  }
 },
 "nbformat": 4,
 "nbformat_minor": 5
}
